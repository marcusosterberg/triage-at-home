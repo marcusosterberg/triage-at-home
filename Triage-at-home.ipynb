{
 "cells": [
  {
   "cell_type": "markdown",
   "metadata": {},
   "source": [
    "# Triage at home\n",
    "A notebook demonstrating the data pipeline, using NLP capabilities such as NLTK in the domain of primary health care.\n",
    "TODO: Finish of with some machine learning."
   ]
  },
  {
   "cell_type": "markdown",
   "metadata": {},
   "source": [
    "## Connect to database\n",
    "Fetches appropriate _code_ and _shorttitle_ from dbase and puts in a datascience.table"
   ]
  },
  {
   "cell_type": "code",
   "execution_count": 8,
   "metadata": {},
   "outputs": [
    {
     "data": {
      "text/html": [
       "<table border=\"1\" class=\"dataframe\">\n",
       "    <thead>\n",
       "        <tr>\n",
       "            <th>Code</th> <th>Title (Swedish)</th>\n",
       "        </tr>\n",
       "    </thead>\n",
       "    <tbody>\n",
       "        <tr>\n",
       "            <td>-30 </td> <td>Medicinsk undersökning / grundlig        </td>\n",
       "        </tr>\n",
       "    </tbody>\n",
       "        <tr>\n",
       "            <td>-31 </td> <td>Medicinsk undersökning / partiell        </td>\n",
       "        </tr>\n",
       "    </tbody>\n",
       "        <tr>\n",
       "            <td>-32 </td> <td>Allergitest                              </td>\n",
       "        </tr>\n",
       "    </tbody>\n",
       "        <tr>\n",
       "            <td>-33 </td> <td>Mikrobiologiskt /annat immunologiskt test</td>\n",
       "        </tr>\n",
       "    </tbody>\n",
       "        <tr>\n",
       "            <td>-34 </td> <td>Blodprov                                 </td>\n",
       "        </tr>\n",
       "    </tbody>\n",
       "        <tr>\n",
       "            <td>-35 </td> <td>Urinprov                                 </td>\n",
       "        </tr>\n",
       "    </tbody>\n",
       "        <tr>\n",
       "            <td>-36 </td> <td>Avföringsprov                            </td>\n",
       "        </tr>\n",
       "    </tbody>\n",
       "        <tr>\n",
       "            <td>-37 </td> <td>Histologiskt / cytologiskt prov          </td>\n",
       "        </tr>\n",
       "    </tbody>\n",
       "        <tr>\n",
       "            <td>-38 </td> <td>Annat laboratorieprov UNS                </td>\n",
       "        </tr>\n",
       "    </tbody>\n",
       "        <tr>\n",
       "            <td>-39 </td> <td>Kliniskt funktionstest                   </td>\n",
       "        </tr>\n",
       "    </tbody>\n",
       "</table>\n",
       "<p>... (716 rows omitted)</p>"
      ],
      "text/plain": [
       "Code | Title (Swedish)\n",
       "-30  | Medicinsk undersökning / grundlig\n",
       "-31  | Medicinsk undersökning / partiell\n",
       "-32  | Allergitest\n",
       "-33  | Mikrobiologiskt /annat immunologiskt test\n",
       "-34  | Blodprov\n",
       "-35  | Urinprov\n",
       "-36  | Avföringsprov\n",
       "-37  | Histologiskt / cytologiskt prov\n",
       "-38  | Annat laboratorieprov UNS\n",
       "-39  | Kliniskt funktionstest\n",
       "... (716 rows omitted)"
      ]
     },
     "execution_count": 8,
     "metadata": {},
     "output_type": "execute_result"
    }
   ],
   "source": [
    "# coding: utf-8\n",
    "import codecs\n",
    "from datascience import * # pip install datascience # documentation at github.com/data-8/datascience and inferentialthinking.com\n",
    "\n",
    "import sqlite3\n",
    "from sqlite3 import Error\n",
    "\n",
    "\n",
    "def create_connection(db_file):\n",
    "    \"\"\" create a database connection to the SQLite database\n",
    "        specified by the db_file\n",
    "    :param db_file: database file\n",
    "    :return: Connection object or None\n",
    "    \"\"\"\n",
    "    try:\n",
    "        conn = sqlite3.connect(db_file)\n",
    "        return conn\n",
    "    except Error as e:\n",
    "        print(e)\n",
    " \n",
    "    return None\n",
    "\n",
    "def select_all_tasks(conn):\n",
    "    \"\"\"\n",
    "    Query all rows in the tasks table\n",
    "    :param conn: the Connection object\n",
    "    :return:\n",
    "    \"\"\"\n",
    "    cur = conn.cursor()\n",
    "    cur.execute(\"SELECT code,consider,criteria,exclusion,inclusion,note,shorttitle,shorttitle_se FROM icpc\")\n",
    "    # cur.execute(\"SELECT code FROM icpc WHERE consider=?\", (priority,))\n",
    " \n",
    "    rows = cur.fetchall()\n",
    " \n",
    "    for row in rows:\n",
    "        # print(row)\n",
    "        shorttitle_se.append(row[7])\n",
    "        code.append(row[0])\n",
    "        #print(row[0])\n",
    "\n",
    "database = \"resources/mldb.db\"\n",
    "code = []\n",
    "shorttitle_se = []\n",
    "\n",
    "# create a database connection\n",
    "conn = create_connection(database)\n",
    "with conn:\n",
    "    select_all_tasks(conn)\n",
    "conn.close()\n",
    "\n",
    "icpc_table = Table().with_columns('Code', code, 'Title (Swedish)', shorttitle_se)\n",
    "icpc_table"
   ]
  },
  {
   "cell_type": "markdown",
   "metadata": {},
   "source": [
    "## Processing the strings into words\n",
    "Removing stopwords and stemming words to their base form."
   ]
  },
  {
   "cell_type": "code",
   "execution_count": 9,
   "metadata": {},
   "outputs": [
    {
     "data": {
      "text/html": [
       "<table border=\"1\" class=\"dataframe\">\n",
       "    <thead>\n",
       "        <tr>\n",
       "            <th>Code</th> <th>Title (Swedish)</th> <th>Keywords (stemmed)</th>\n",
       "        </tr>\n",
       "    </thead>\n",
       "    <tbody>\n",
       "        <tr>\n",
       "            <td>-30 </td> <td>Medicinsk undersökning / grundlig        </td> <td>medicinsk, undersökning, grund         </td>\n",
       "        </tr>\n",
       "    </tbody>\n",
       "        <tr>\n",
       "            <td>-31 </td> <td>Medicinsk undersökning / partiell        </td> <td>medicinsk, undersökning, partiell      </td>\n",
       "        </tr>\n",
       "    </tbody>\n",
       "        <tr>\n",
       "            <td>-32 </td> <td>Allergitest                              </td> <td>allergitest                            </td>\n",
       "        </tr>\n",
       "    </tbody>\n",
       "        <tr>\n",
       "            <td>-33 </td> <td>Mikrobiologiskt /annat immunologiskt test</td> <td>mikrobiologisk, ann, immunologisk, test</td>\n",
       "        </tr>\n",
       "    </tbody>\n",
       "        <tr>\n",
       "            <td>-34 </td> <td>Blodprov                                 </td> <td>blodprov                               </td>\n",
       "        </tr>\n",
       "    </tbody>\n",
       "        <tr>\n",
       "            <td>-35 </td> <td>Urinprov                                 </td> <td>urinprov                               </td>\n",
       "        </tr>\n",
       "    </tbody>\n",
       "        <tr>\n",
       "            <td>-36 </td> <td>Avföringsprov                            </td> <td>avföringsprov                          </td>\n",
       "        </tr>\n",
       "    </tbody>\n",
       "        <tr>\n",
       "            <td>-37 </td> <td>Histologiskt / cytologiskt prov          </td> <td>histologisk, cytologisk, prov          </td>\n",
       "        </tr>\n",
       "    </tbody>\n",
       "        <tr>\n",
       "            <td>-38 </td> <td>Annat laboratorieprov UNS                </td> <td>ann, laboratorieprov                   </td>\n",
       "        </tr>\n",
       "    </tbody>\n",
       "        <tr>\n",
       "            <td>-39 </td> <td>Kliniskt funktionstest                   </td> <td>klinisk, funktionstest                 </td>\n",
       "        </tr>\n",
       "    </tbody>\n",
       "</table>\n",
       "<p>... (716 rows omitted)</p>"
      ],
      "text/plain": [
       "Code | Title (Swedish)                           | Keywords (stemmed)\n",
       "-30  | Medicinsk undersökning / grundlig         | medicinsk, undersökning, grund\n",
       "-31  | Medicinsk undersökning / partiell         | medicinsk, undersökning, partiell\n",
       "-32  | Allergitest                               | allergitest\n",
       "-33  | Mikrobiologiskt /annat immunologiskt test | mikrobiologisk, ann, immunologisk, test\n",
       "-34  | Blodprov                                  | blodprov\n",
       "-35  | Urinprov                                  | urinprov\n",
       "-36  | Avföringsprov                             | avföringsprov\n",
       "-37  | Histologiskt / cytologiskt prov           | histologisk, cytologisk, prov\n",
       "-38  | Annat laboratorieprov UNS                 | ann, laboratorieprov\n",
       "-39  | Kliniskt funktionstest                    | klinisk, funktionstest\n",
       "... (716 rows omitted)"
      ]
     },
     "execution_count": 9,
     "metadata": {},
     "output_type": "execute_result"
    }
   ],
   "source": [
    "import nltk\n",
    "from nltk.stem.snowball import SwedishStemmer\n",
    "import re\n",
    "\n",
    "def remove_stopwords(s):\n",
    "    stopwords = set(w.rstrip() for w in open('resources/stopwords_se.txt'))\n",
    "\n",
    "    s = s.lower() # downcase\n",
    "    tokens = nltk.tokenize.word_tokenize(s) # split string into words (tokens)\n",
    "    tokens = [t for t in tokens if len(t) > 2] # remove short words, they're probably not useful\n",
    "    # tokens = [wordnet_lemmatizer.lemmatize(t) for t in tokens] # put words into base form - don't work in Swedish though\n",
    "    tokens = [t for t in tokens if t not in stopwords] # remove stopwords\n",
    "    return tokens\n",
    "\n",
    "swedish_stemmer = SwedishStemmer()\t#(ignore_stopwords=False)\n",
    "\n",
    "i = 0 # counter for debugging purposes\n",
    "stemmed_keywords = []\n",
    "\n",
    "for item in icpc_table.column(1):\n",
    "    item = item.replace(',', \" \").replace('/', \" \").replace('-', ' ')\n",
    "    item = re.sub(' +',' ',item)\n",
    "    \n",
    "    item_keywords = ''\n",
    "    \n",
    "    for word in item.split(' '):\n",
    "        stemmed = swedish_stemmer.stem(word)\n",
    "        #print(i, remove_stopwords(stemmed), stemmed, word)\n",
    "        if len(remove_stopwords(stemmed)) > 0:\n",
    "            #print(remove_stopwords(stemmed))\n",
    "            item_keywords = '{0}, {1}'.format(item_keywords, remove_stopwords(stemmed)[0])\n",
    "    \n",
    "    i += 1\n",
    "    stemmed_keywords.append(item_keywords[2:])\n",
    "    #print(i, item_keywords)\n",
    "\n",
    "icpc_table = icpc_table.with_column('Keywords (stemmed)', stemmed_keywords)\n",
    "icpc_table"
   ]
  },
  {
   "cell_type": "markdown",
   "metadata": {},
   "source": [
    "## Medical history as input\n",
    "Matching the stemmed words from ICPC's titles with stemmed words from the user's medical history (anamnes in Swedish)"
   ]
  },
  {
   "cell_type": "code",
   "execution_count": 10,
   "metadata": {},
   "outputs": [
    {
     "name": "stdout",
     "output_type": "stream",
     "text": [
      "(S\n",
      "  hosta/NN\n",
      "  tiden/NN\n",
      "  rökare/NN\n",
      "  känt/FW\n",
      "  snuvig/NN\n",
      "  faktiskt/NN\n",
      "  månader/NN\n",
      "  misstanke/NN\n",
      "  allergi/NN)\n"
     ]
    }
   ],
   "source": [
    "s = \"Haft hosta under den senaste tiden. Är rökare och har känt sig snuvig i faktiskt flera månader och har även misstanke om någon form av allergi.\"\n",
    "s = remove_stopwords(s)\n",
    "\n",
    "tags = nltk.pos_tag(s)\n",
    "# print(tags)\n",
    "print(nltk.ne_chunk(tags))"
   ]
  },
  {
   "cell_type": "markdown",
   "metadata": {},
   "source": [
    "## Match user input with stemmed keywords from ICPC vocabulary"
   ]
  },
  {
   "cell_type": "code",
   "execution_count": 11,
   "metadata": {},
   "outputs": [
    {
     "name": "stdout",
     "output_type": "stream",
     "text": [
      "The stemmed word 'host' matched the following codes from ICPC 'R05, R24, R25, R71'\n",
      "The stemmed word 'snuv' matched the following codes from ICPC 'R97'\n",
      "The stemmed word 'allergi' matched the following codes from ICPC '-32, A92, F71, R97, S88'\n"
     ]
    }
   ],
   "source": [
    "for word in s:\n",
    "    stemmed_word = remove_stopwords(swedish_stemmer.stem(word))[0]\n",
    "    matches = icpc_table.where('Keywords (stemmed)', are.containing(stemmed_word)).column(0)\n",
    "    \n",
    "    if len(matches) > 0: # only presenting words with matches in ICPC\n",
    "        print(\"The stemmed word '{0}' matched the following codes from ICPC '{1}'\".format(stemmed_word, ', '.join(matches)))"
   ]
  }
 ],
 "metadata": {
  "kernelspec": {
   "display_name": "Python 3",
   "language": "python",
   "name": "python3"
  },
  "language_info": {
   "codemirror_mode": {
    "name": "ipython",
    "version": 3
   },
   "file_extension": ".py",
   "mimetype": "text/x-python",
   "name": "python",
   "nbconvert_exporter": "python",
   "pygments_lexer": "ipython3",
   "version": "3.6.4"
  }
 },
 "nbformat": 4,
 "nbformat_minor": 2
}
